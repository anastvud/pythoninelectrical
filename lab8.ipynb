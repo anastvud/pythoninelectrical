{
 "cells": [
  {
   "cell_type": "code",
   "execution_count": 110,
   "metadata": {
    "collapsed": true
   },
   "outputs": [],
   "source": [
    "import pandas as pd\n",
    "import sqlite3"
   ]
  },
  {
   "cell_type": "code",
   "execution_count": 111,
   "outputs": [
    {
     "data": {
      "text/plain": "                       0\n0             Categories\n1        sqlite_sequence\n2   CustomerCustomerDemo\n3   CustomerDemographics\n4              Customers\n5              Employees\n6    EmployeeTerritories\n7          Order Details\n8                 Orders\n9               Products\n10               Regions\n11              Shippers\n12             Suppliers\n13           Territories",
      "text/html": "<div>\n<style scoped>\n    .dataframe tbody tr th:only-of-type {\n        vertical-align: middle;\n    }\n\n    .dataframe tbody tr th {\n        vertical-align: top;\n    }\n\n    .dataframe thead th {\n        text-align: right;\n    }\n</style>\n<table border=\"1\" class=\"dataframe\">\n  <thead>\n    <tr style=\"text-align: right;\">\n      <th></th>\n      <th>0</th>\n    </tr>\n  </thead>\n  <tbody>\n    <tr>\n      <th>0</th>\n      <td>Categories</td>\n    </tr>\n    <tr>\n      <th>1</th>\n      <td>sqlite_sequence</td>\n    </tr>\n    <tr>\n      <th>2</th>\n      <td>CustomerCustomerDemo</td>\n    </tr>\n    <tr>\n      <th>3</th>\n      <td>CustomerDemographics</td>\n    </tr>\n    <tr>\n      <th>4</th>\n      <td>Customers</td>\n    </tr>\n    <tr>\n      <th>5</th>\n      <td>Employees</td>\n    </tr>\n    <tr>\n      <th>6</th>\n      <td>EmployeeTerritories</td>\n    </tr>\n    <tr>\n      <th>7</th>\n      <td>Order Details</td>\n    </tr>\n    <tr>\n      <th>8</th>\n      <td>Orders</td>\n    </tr>\n    <tr>\n      <th>9</th>\n      <td>Products</td>\n    </tr>\n    <tr>\n      <th>10</th>\n      <td>Regions</td>\n    </tr>\n    <tr>\n      <th>11</th>\n      <td>Shippers</td>\n    </tr>\n    <tr>\n      <th>12</th>\n      <td>Suppliers</td>\n    </tr>\n    <tr>\n      <th>13</th>\n      <td>Territories</td>\n    </tr>\n  </tbody>\n</table>\n</div>"
     },
     "execution_count": 111,
     "metadata": {},
     "output_type": "execute_result"
    }
   ],
   "source": [
    "con = sqlite3.connect(\"northwind.db\")\n",
    "cursor = con.cursor()\n",
    "\n",
    "table_names = pd.DataFrame(cursor.execute(\"SELECT name FROM sqlite_master WHERE type='table';\"))\n",
    "table_names"
   ],
   "metadata": {
    "collapsed": false
   }
  },
  {
   "cell_type": "code",
   "execution_count": 112,
   "outputs": [],
   "source": [
    "customers = pd.read_sql_query(\"SELECT * FROM Customers\", con)\n",
    "orders = pd.read_sql_query(\"SELECT * FROM Orders\", con)"
   ],
   "metadata": {
    "collapsed": false
   }
  },
  {
   "cell_type": "code",
   "execution_count": 113,
   "outputs": [
    {
     "data": {
      "text/plain": "array(['Berlin', 'México D.F.', 'London', 'Luleå', 'Mannheim',\n       'Strasbourg', 'Madrid', 'Marseille', 'Tsawassen', 'Buenos Aires',\n       'Bern', 'Sao Paulo', 'Aachen', 'Nantes', 'Graz', 'Lille', 'Bräcke',\n       'München', 'Torino', 'Lisboa', 'Barcelona', 'Sevilla', 'Campinas',\n       'Eugene', 'Caracas', 'Rio de Janeiro', 'San Cristóbal', 'Elgin',\n       'Cork', 'Cowes', 'Brandenburg', 'Versailles', 'Toulouse',\n       'Vancouver', 'Walla Walla', 'Frankfurt a.M.', 'San Francisco',\n       'Barquisimeto', 'I. de Margarita', 'Portland', 'Bergamo',\n       'Bruxelles', 'Montréal', 'Leipzig', 'Anchorage', 'Köln', 'Paris',\n       'Salzburg', 'Cunewalde', 'Albuquerque', 'Reggio Emilia', 'Genève',\n       'Stavern', 'Boise', 'Kobenhavn', 'Lander', 'Charleroi', 'Butte',\n       'Münster', 'Kirkland', 'Århus', None, 'Lyon', 'Reims', 'Stuttgart',\n       'Oulu', 'Resende', 'Seattle', 'Helsinki', 'Warszawa'], dtype=object)"
     },
     "execution_count": 113,
     "metadata": {},
     "output_type": "execute_result"
    }
   ],
   "source": [
    "customers[\"City\"].unique()"
   ],
   "metadata": {
    "collapsed": false
   }
  },
  {
   "cell_type": "code",
   "execution_count": 114,
   "outputs": [
    {
     "data": {
      "text/plain": "City\nAachen          1\nAlbuquerque     1\nAnchorage       1\nBarcelona       1\nBarquisimeto    1\n               ..\nVancouver       1\nVersailles      1\nWalla Walla     1\nWarszawa        1\nÅrhus           1\nName: CustomerID, Length: 69, dtype: int64"
     },
     "execution_count": 114,
     "metadata": {},
     "output_type": "execute_result"
    }
   ],
   "source": [
    "customers.groupby(\"City\")[\"CustomerID\"].count()"
   ],
   "metadata": {
    "collapsed": false
   }
  },
  {
   "cell_type": "code",
   "execution_count": 115,
   "outputs": [
    {
     "data": {
      "text/plain": "CustomerID\nBSBEV    210\nRICAR    203\nLILAS    203\nGOURL    202\nPRINI    200\nName: OrderID, dtype: int64"
     },
     "execution_count": 115,
     "metadata": {},
     "output_type": "execute_result"
    }
   ],
   "source": [
    "orders.groupby(\"CustomerID\")[\"OrderID\"].count().sort_values(ascending=False).head(5)"
   ],
   "metadata": {
    "collapsed": false
   }
  },
  {
   "cell_type": "code",
   "execution_count": 116,
   "outputs": [
    {
     "data": {
      "text/plain": "   OrderID  ProductID  UnitPrice  Quantity  Discount\n0    10248         11       14.0        12       0.0\n1    10248         42        9.8        10       0.0\n2    10248         72       34.8         5       0.0\n3    10249         14       18.6         9       0.0\n4    10249         51       42.4        40       0.0",
      "text/html": "<div>\n<style scoped>\n    .dataframe tbody tr th:only-of-type {\n        vertical-align: middle;\n    }\n\n    .dataframe tbody tr th {\n        vertical-align: top;\n    }\n\n    .dataframe thead th {\n        text-align: right;\n    }\n</style>\n<table border=\"1\" class=\"dataframe\">\n  <thead>\n    <tr style=\"text-align: right;\">\n      <th></th>\n      <th>OrderID</th>\n      <th>ProductID</th>\n      <th>UnitPrice</th>\n      <th>Quantity</th>\n      <th>Discount</th>\n    </tr>\n  </thead>\n  <tbody>\n    <tr>\n      <th>0</th>\n      <td>10248</td>\n      <td>11</td>\n      <td>14.0</td>\n      <td>12</td>\n      <td>0.0</td>\n    </tr>\n    <tr>\n      <th>1</th>\n      <td>10248</td>\n      <td>42</td>\n      <td>9.8</td>\n      <td>10</td>\n      <td>0.0</td>\n    </tr>\n    <tr>\n      <th>2</th>\n      <td>10248</td>\n      <td>72</td>\n      <td>34.8</td>\n      <td>5</td>\n      <td>0.0</td>\n    </tr>\n    <tr>\n      <th>3</th>\n      <td>10249</td>\n      <td>14</td>\n      <td>18.6</td>\n      <td>9</td>\n      <td>0.0</td>\n    </tr>\n    <tr>\n      <th>4</th>\n      <td>10249</td>\n      <td>51</td>\n      <td>42.4</td>\n      <td>40</td>\n      <td>0.0</td>\n    </tr>\n  </tbody>\n</table>\n</div>"
     },
     "execution_count": 116,
     "metadata": {},
     "output_type": "execute_result"
    }
   ],
   "source": [
    "order_details = pd.read_sql_query(\"SELECT * FROM `Order Details`\", con)\n",
    "products = pd.read_sql_query(\"SELECT * FROM Products\", con)\n",
    "\n",
    "order_details.head()"
   ],
   "metadata": {
    "collapsed": false
   }
  },
  {
   "cell_type": "code",
   "execution_count": 117,
   "outputs": [
    {
     "data": {
      "text/plain": "   OrderID  ProductID  UnitPrice_x  Quantity  Discount  \\\n0    10248         11         14.0        12       0.0   \n1    10248         42          9.8        10       0.0   \n2    10248         72         34.8         5       0.0   \n3    10249         14         18.6         9       0.0   \n4    10249         51         42.4        40       0.0   \n\n                     ProductName  SupplierID  CategoryID   QuantityPerUnit  \\\n0                 Queso Cabrales           5           4         1 kg pkg.   \n1  Singaporean Hokkien Fried Mee          20           5   32 - 1 kg pkgs.   \n2         Mozzarella di Giovanni          14           4  24 - 200 g pkgs.   \n3                           Tofu           6           7  40 - 100 g pkgs.   \n4          Manjimup Dried Apples          24           7  50 - 300 g pkgs.   \n\n   UnitPrice_y  UnitsInStock  UnitsOnOrder  ReorderLevel Discontinued  \n0        21.00            22            30            30            0  \n1        14.00            26             0             0            1  \n2        34.80            14             0             0            0  \n3        23.25            35             0             0            0  \n4        53.00            20             0            10            0  ",
      "text/html": "<div>\n<style scoped>\n    .dataframe tbody tr th:only-of-type {\n        vertical-align: middle;\n    }\n\n    .dataframe tbody tr th {\n        vertical-align: top;\n    }\n\n    .dataframe thead th {\n        text-align: right;\n    }\n</style>\n<table border=\"1\" class=\"dataframe\">\n  <thead>\n    <tr style=\"text-align: right;\">\n      <th></th>\n      <th>OrderID</th>\n      <th>ProductID</th>\n      <th>UnitPrice_x</th>\n      <th>Quantity</th>\n      <th>Discount</th>\n      <th>ProductName</th>\n      <th>SupplierID</th>\n      <th>CategoryID</th>\n      <th>QuantityPerUnit</th>\n      <th>UnitPrice_y</th>\n      <th>UnitsInStock</th>\n      <th>UnitsOnOrder</th>\n      <th>ReorderLevel</th>\n      <th>Discontinued</th>\n    </tr>\n  </thead>\n  <tbody>\n    <tr>\n      <th>0</th>\n      <td>10248</td>\n      <td>11</td>\n      <td>14.0</td>\n      <td>12</td>\n      <td>0.0</td>\n      <td>Queso Cabrales</td>\n      <td>5</td>\n      <td>4</td>\n      <td>1 kg pkg.</td>\n      <td>21.00</td>\n      <td>22</td>\n      <td>30</td>\n      <td>30</td>\n      <td>0</td>\n    </tr>\n    <tr>\n      <th>1</th>\n      <td>10248</td>\n      <td>42</td>\n      <td>9.8</td>\n      <td>10</td>\n      <td>0.0</td>\n      <td>Singaporean Hokkien Fried Mee</td>\n      <td>20</td>\n      <td>5</td>\n      <td>32 - 1 kg pkgs.</td>\n      <td>14.00</td>\n      <td>26</td>\n      <td>0</td>\n      <td>0</td>\n      <td>1</td>\n    </tr>\n    <tr>\n      <th>2</th>\n      <td>10248</td>\n      <td>72</td>\n      <td>34.8</td>\n      <td>5</td>\n      <td>0.0</td>\n      <td>Mozzarella di Giovanni</td>\n      <td>14</td>\n      <td>4</td>\n      <td>24 - 200 g pkgs.</td>\n      <td>34.80</td>\n      <td>14</td>\n      <td>0</td>\n      <td>0</td>\n      <td>0</td>\n    </tr>\n    <tr>\n      <th>3</th>\n      <td>10249</td>\n      <td>14</td>\n      <td>18.6</td>\n      <td>9</td>\n      <td>0.0</td>\n      <td>Tofu</td>\n      <td>6</td>\n      <td>7</td>\n      <td>40 - 100 g pkgs.</td>\n      <td>23.25</td>\n      <td>35</td>\n      <td>0</td>\n      <td>0</td>\n      <td>0</td>\n    </tr>\n    <tr>\n      <th>4</th>\n      <td>10249</td>\n      <td>51</td>\n      <td>42.4</td>\n      <td>40</td>\n      <td>0.0</td>\n      <td>Manjimup Dried Apples</td>\n      <td>24</td>\n      <td>7</td>\n      <td>50 - 300 g pkgs.</td>\n      <td>53.00</td>\n      <td>20</td>\n      <td>0</td>\n      <td>10</td>\n      <td>0</td>\n    </tr>\n  </tbody>\n</table>\n</div>"
     },
     "execution_count": 117,
     "metadata": {},
     "output_type": "execute_result"
    }
   ],
   "source": [
    "joined = order_details.merge(products, on='ProductID', how='left')\n",
    "joined.head()"
   ],
   "metadata": {
    "collapsed": false
   }
  },
  {
   "cell_type": "code",
   "execution_count": 126,
   "outputs": [
    {
     "data": {
      "text/plain": "ProductID\n1     201905\n2     201802\n3     202186\n4     198726\n5     199627\n       ...  \n73    199042\n74    202113\n75    201021\n76    201478\n77    201852\nName: Quantity, Length: 77, dtype: int64"
     },
     "execution_count": 126,
     "metadata": {},
     "output_type": "execute_result"
    }
   ],
   "source": [
    "joined.groupby(\"ProductID\")[\"Quantity\"].sum()"
   ],
   "metadata": {
    "collapsed": false
   }
  },
  {
   "cell_type": "code",
   "execution_count": 119,
   "outputs": [
    {
     "data": {
      "text/plain": "        OrderID  Revenue\n1620      10865  15810.0\n1893      10981  15810.0\n579922    25805  13175.0\n92766     13402  13175.0\n143603    14674  13175.0",
      "text/html": "<div>\n<style scoped>\n    .dataframe tbody tr th:only-of-type {\n        vertical-align: middle;\n    }\n\n    .dataframe tbody tr th {\n        vertical-align: top;\n    }\n\n    .dataframe thead th {\n        text-align: right;\n    }\n</style>\n<table border=\"1\" class=\"dataframe\">\n  <thead>\n    <tr style=\"text-align: right;\">\n      <th></th>\n      <th>OrderID</th>\n      <th>Revenue</th>\n    </tr>\n  </thead>\n  <tbody>\n    <tr>\n      <th>1620</th>\n      <td>10865</td>\n      <td>15810.0</td>\n    </tr>\n    <tr>\n      <th>1893</th>\n      <td>10981</td>\n      <td>15810.0</td>\n    </tr>\n    <tr>\n      <th>579922</th>\n      <td>25805</td>\n      <td>13175.0</td>\n    </tr>\n    <tr>\n      <th>92766</th>\n      <td>13402</td>\n      <td>13175.0</td>\n    </tr>\n    <tr>\n      <th>143603</th>\n      <td>14674</td>\n      <td>13175.0</td>\n    </tr>\n  </tbody>\n</table>\n</div>"
     },
     "execution_count": 119,
     "metadata": {},
     "output_type": "execute_result"
    }
   ],
   "source": [
    "rev = (order_details['Quantity'] * order_details['UnitPrice'])\n",
    "joined['Revenue'] = rev\n",
    "order_details['Revenue'] = rev\n",
    "joined[['OrderID', 'Revenue']].sort_values(by='Revenue', ascending=False).head(5)"
   ],
   "metadata": {
    "collapsed": false
   }
  },
  {
   "cell_type": "code",
   "execution_count": 120,
   "outputs": [
    {
     "data": {
      "text/plain": "   OrderID CustomerID  EmployeeID   OrderDate RequiredDate ShippedDate  \\\n0    10248      VINET           5  2016-07-04   2016-08-01  2016-07-16   \n1    10248      VINET           5  2016-07-04   2016-08-01  2016-07-16   \n2    10248      VINET           5  2016-07-04   2016-08-01  2016-07-16   \n3    10249      TOMSP           6  2016-07-05   2016-08-16  2016-07-10   \n4    10249      TOMSP           6  2016-07-05   2016-08-16  2016-07-10   \n\n   ShipVia  Freight                   ShipName         ShipAddress ShipCity  \\\n0        3    16.75  Vins et alcools Chevalier  59 rue de l-Abbaye    Reims   \n1        3    16.75  Vins et alcools Chevalier  59 rue de l-Abbaye    Reims   \n2        3    16.75  Vins et alcools Chevalier  59 rue de l-Abbaye    Reims   \n3        1    22.25         Toms Spezialitäten       Luisenstr. 48  Münster   \n4        1    22.25         Toms Spezialitäten       Luisenstr. 48  Münster   \n\n       ShipRegion ShipPostalCode ShipCountry  ProductID  UnitPrice  Quantity  \\\n0  Western Europe          51100      France         11       14.0        12   \n1  Western Europe          51100      France         42        9.8        10   \n2  Western Europe          51100      France         72       34.8         5   \n3  Western Europe          44087     Germany         14       18.6         9   \n4  Western Europe          44087     Germany         51       42.4        40   \n\n   Discount  Revenue  \n0       0.0    168.0  \n1       0.0     98.0  \n2       0.0    174.0  \n3       0.0    167.4  \n4       0.0   1696.0  ",
      "text/html": "<div>\n<style scoped>\n    .dataframe tbody tr th:only-of-type {\n        vertical-align: middle;\n    }\n\n    .dataframe tbody tr th {\n        vertical-align: top;\n    }\n\n    .dataframe thead th {\n        text-align: right;\n    }\n</style>\n<table border=\"1\" class=\"dataframe\">\n  <thead>\n    <tr style=\"text-align: right;\">\n      <th></th>\n      <th>OrderID</th>\n      <th>CustomerID</th>\n      <th>EmployeeID</th>\n      <th>OrderDate</th>\n      <th>RequiredDate</th>\n      <th>ShippedDate</th>\n      <th>ShipVia</th>\n      <th>Freight</th>\n      <th>ShipName</th>\n      <th>ShipAddress</th>\n      <th>ShipCity</th>\n      <th>ShipRegion</th>\n      <th>ShipPostalCode</th>\n      <th>ShipCountry</th>\n      <th>ProductID</th>\n      <th>UnitPrice</th>\n      <th>Quantity</th>\n      <th>Discount</th>\n      <th>Revenue</th>\n    </tr>\n  </thead>\n  <tbody>\n    <tr>\n      <th>0</th>\n      <td>10248</td>\n      <td>VINET</td>\n      <td>5</td>\n      <td>2016-07-04</td>\n      <td>2016-08-01</td>\n      <td>2016-07-16</td>\n      <td>3</td>\n      <td>16.75</td>\n      <td>Vins et alcools Chevalier</td>\n      <td>59 rue de l-Abbaye</td>\n      <td>Reims</td>\n      <td>Western Europe</td>\n      <td>51100</td>\n      <td>France</td>\n      <td>11</td>\n      <td>14.0</td>\n      <td>12</td>\n      <td>0.0</td>\n      <td>168.0</td>\n    </tr>\n    <tr>\n      <th>1</th>\n      <td>10248</td>\n      <td>VINET</td>\n      <td>5</td>\n      <td>2016-07-04</td>\n      <td>2016-08-01</td>\n      <td>2016-07-16</td>\n      <td>3</td>\n      <td>16.75</td>\n      <td>Vins et alcools Chevalier</td>\n      <td>59 rue de l-Abbaye</td>\n      <td>Reims</td>\n      <td>Western Europe</td>\n      <td>51100</td>\n      <td>France</td>\n      <td>42</td>\n      <td>9.8</td>\n      <td>10</td>\n      <td>0.0</td>\n      <td>98.0</td>\n    </tr>\n    <tr>\n      <th>2</th>\n      <td>10248</td>\n      <td>VINET</td>\n      <td>5</td>\n      <td>2016-07-04</td>\n      <td>2016-08-01</td>\n      <td>2016-07-16</td>\n      <td>3</td>\n      <td>16.75</td>\n      <td>Vins et alcools Chevalier</td>\n      <td>59 rue de l-Abbaye</td>\n      <td>Reims</td>\n      <td>Western Europe</td>\n      <td>51100</td>\n      <td>France</td>\n      <td>72</td>\n      <td>34.8</td>\n      <td>5</td>\n      <td>0.0</td>\n      <td>174.0</td>\n    </tr>\n    <tr>\n      <th>3</th>\n      <td>10249</td>\n      <td>TOMSP</td>\n      <td>6</td>\n      <td>2016-07-05</td>\n      <td>2016-08-16</td>\n      <td>2016-07-10</td>\n      <td>1</td>\n      <td>22.25</td>\n      <td>Toms Spezialitäten</td>\n      <td>Luisenstr. 48</td>\n      <td>Münster</td>\n      <td>Western Europe</td>\n      <td>44087</td>\n      <td>Germany</td>\n      <td>14</td>\n      <td>18.6</td>\n      <td>9</td>\n      <td>0.0</td>\n      <td>167.4</td>\n    </tr>\n    <tr>\n      <th>4</th>\n      <td>10249</td>\n      <td>TOMSP</td>\n      <td>6</td>\n      <td>2016-07-05</td>\n      <td>2016-08-16</td>\n      <td>2016-07-10</td>\n      <td>1</td>\n      <td>22.25</td>\n      <td>Toms Spezialitäten</td>\n      <td>Luisenstr. 48</td>\n      <td>Münster</td>\n      <td>Western Europe</td>\n      <td>44087</td>\n      <td>Germany</td>\n      <td>51</td>\n      <td>42.4</td>\n      <td>40</td>\n      <td>0.0</td>\n      <td>1696.0</td>\n    </tr>\n  </tbody>\n</table>\n</div>"
     },
     "execution_count": 120,
     "metadata": {},
     "output_type": "execute_result"
    }
   ],
   "source": [
    "df = orders.merge(order_details, on='OrderID', how='left')\n",
    "df.merge(customers, on='CustomerID', how='left')\n",
    "df.merge(products, on='ProductID', how='left')\n",
    "df.head()"
   ],
   "metadata": {
    "collapsed": false
   }
  },
  {
   "cell_type": "code",
   "execution_count": 121,
   "outputs": [
    {
     "data": {
      "text/plain": "ShipCountry\nArgentina      15542241.62\nAustria        10267591.93\nBelgium         9182472.91\nBrazil         46258164.25\nCanada         14641766.32\nDenmark        10132404.75\nFinland         9817972.82\nFrance         49125550.43\nGermany        59109113.22\nIreland         4521586.06\nItaly          14443963.20\nMexico         25438604.89\nNorway          4599279.63\nPoland          5956182.93\nPortugal       10122547.39\nSpain          19136130.83\nSweden         10445419.72\nSwitzerland    10275791.38\nUK             36259297.32\nUSA            63874320.00\nVenezuela      19324897.12\nName: Revenue, dtype: float64"
     },
     "execution_count": 121,
     "metadata": {},
     "output_type": "execute_result"
    }
   ],
   "source": [
    "df.groupby('ShipCountry')['Revenue'].sum()"
   ],
   "metadata": {
    "collapsed": false
   }
  },
  {
   "cell_type": "code",
   "execution_count": 122,
   "outputs": [
    {
     "data": {
      "text/plain": "CustomerID\nBSBEV    6154115.34\nHUNGC    5698023.67\nRANCH    5559110.08\nGOURL    5552597.90\nANATR    5534356.65\nName: Revenue, dtype: float64"
     },
     "execution_count": 122,
     "metadata": {},
     "output_type": "execute_result"
    }
   ],
   "source": [
    "df.groupby('CustomerID')['Revenue'].sum().sort_values(ascending=False).head(5)"
   ],
   "metadata": {
    "collapsed": false
   }
  }
 ],
 "metadata": {
  "kernelspec": {
   "display_name": "Python 3",
   "language": "python",
   "name": "python3"
  },
  "language_info": {
   "codemirror_mode": {
    "name": "ipython",
    "version": 2
   },
   "file_extension": ".py",
   "mimetype": "text/x-python",
   "name": "python",
   "nbconvert_exporter": "python",
   "pygments_lexer": "ipython2",
   "version": "2.7.6"
  }
 },
 "nbformat": 4,
 "nbformat_minor": 0
}
